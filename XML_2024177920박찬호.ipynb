{
 "cells": [
  {
   "cell_type": "code",
   "execution_count": 1,
   "id": "f3060797-d9b9-4b9c-8c91-a78daf0062e4",
   "metadata": {},
   "outputs": [
    {
     "name": "stdout",
     "output_type": "stream",
     "text": [
      "menu\n"
     ]
    }
   ],
   "source": [
    "import xml.etree.ElementTree as et\n",
    "tree = et.ElementTree(file='menu.xml')\n",
    "root = tree.getroot()\n",
    "\n",
    "print(root.tag)"
   ]
  },
  {
   "cell_type": "code",
   "execution_count": 26,
   "id": "34986569-8750-40f4-a55e-49b9f5ddf261",
   "metadata": {},
   "outputs": [
    {
     "name": "stdout",
     "output_type": "stream",
     "text": [
      "tag: breakfast attributes: {'hours': '7-11'}\n",
      "\ttag: item attributtes: {'price': '$6.00'}\n",
      "\ttag: item attributtes: {'price': '$4.00'}\n",
      "tag: lunch attributes: {'hours': '11-3'}\n",
      "\ttag: item attributtes: {'price': '$5.00'}\n",
      "tag: dinner attributes: {'hours': '3-10'}\n",
      "\ttag: item attributtes: {'price': '8.00'}\n"
     ]
    }
   ],
   "source": [
    "for child in root:\n",
    "    print('tag:', child.tag, 'attributes:', child.attrib)\n",
    "    for grandchild in child:\n",
    "        print('\\ttag:', grandchild.tag, 'attributtes:', grandchild.attrib)"
   ]
  },
  {
   "cell_type": "code",
   "execution_count": 34,
   "id": "434af121-34fd-4ada-bd73-5d4af5f72b93",
   "metadata": {},
   "outputs": [
    {
     "name": "stdout",
     "output_type": "stream",
     "text": [
      "<Element 'breakfast' at 0x000002265B180770>\n",
      "7-11\n",
      "['hours']\n",
      "[('hours', '7-11')]\n"
     ]
    }
   ],
   "source": [
    "print(root[0])\n",
    "print(root[0].get(\"hours\"))\n",
    "print(root[0].keys())\n",
    "print(root[0].items())"
   ]
  },
  {
   "cell_type": "code",
   "execution_count": 40,
   "id": "b64313c6-38ac-4513-869a-32722da10b95",
   "metadata": {},
   "outputs": [
    {
     "name": "stdout",
     "output_type": "stream",
     "text": [
      "<Element 'lunch' at 0x000002265B180860>\n",
      "11-3\n",
      "['hours']\n",
      "[('hours', '11-3')]\n"
     ]
    }
   ],
   "source": [
    "lunch = root.find(\"lunch\")\n",
    "print(lunch)\n",
    "print(lunch.get(\"hours\"))\n",
    "print(lunch.keys())\n",
    "print(lunch.items())"
   ]
  },
  {
   "cell_type": "code",
   "execution_count": 41,
   "id": "e47c520d-215c-4f8c-8506-169c5b938ab6",
   "metadata": {},
   "outputs": [
    {
     "name": "stdout",
     "output_type": "stream",
     "text": [
      "[<Element 'item' at 0x000002265B1807C0>, <Element 'item' at 0x000002265B180810>]\n"
     ]
    }
   ],
   "source": [
    "print(root[0].findall('item'))"
   ]
  },
  {
   "cell_type": "code",
   "execution_count": 42,
   "id": "9a63551f-ea28-4c5d-8fa8-61cff8bdbfa3",
   "metadata": {},
   "outputs": [
    {
     "name": "stdout",
     "output_type": "stream",
     "text": [
      "$6.00\n",
      "breakfast burritos\n",
      "$4.00\n",
      "pancakes\n"
     ]
    }
   ],
   "source": [
    "for item in root[0].findall('item'):\n",
    "    print(item.get('price'))\n",
    "    print(item.text)"
   ]
  },
  {
   "cell_type": "code",
   "execution_count": null,
   "id": "be3738ae-d4e2-484c-a334-eb15c9ca2ebd",
   "metadata": {},
   "outputs": [],
   "source": []
  },
  {
   "cell_type": "code",
   "execution_count": null,
   "id": "fe10efd5-cc35-4372-8856-0a0b4029180e",
   "metadata": {},
   "outputs": [],
   "source": []
  },
  {
   "cell_type": "code",
   "execution_count": null,
   "id": "bb472f93-3c4d-45ab-9d6c-302c6c415de7",
   "metadata": {},
   "outputs": [],
   "source": []
  },
  {
   "cell_type": "code",
   "execution_count": 45,
   "id": "1423e143-3657-4c9f-a46b-6154d1ee7c71",
   "metadata": {},
   "outputs": [
    {
     "data": {
      "text/plain": [
       "{'name': '홍길동', 'birth': '0525', 'age': 30}"
      ]
     },
     "execution_count": 45,
     "metadata": {},
     "output_type": "execute_result"
    }
   ],
   "source": [
    "import json\n",
    "j1 = {\"name\":\"홍길동\", \"birth\":\"0525\", \"age\": 30}\n",
    "j1"
   ]
  },
  {
   "cell_type": "code",
   "execution_count": 46,
   "id": "059c7db8-b63e-4254-9208-89addf13ee7b",
   "metadata": {},
   "outputs": [
    {
     "data": {
      "text/plain": [
       "'{\"name\": \"\\\\ud64d\\\\uae38\\\\ub3d9\", \"birth\": \"0525\", \"age\": 30}'"
      ]
     },
     "execution_count": 46,
     "metadata": {},
     "output_type": "execute_result"
    }
   ],
   "source": [
    "json.dumps(j1)"
   ]
  },
  {
   "cell_type": "code",
   "execution_count": 47,
   "id": "c1dcaa00-b723-460e-bbc1-378f2b33deca",
   "metadata": {},
   "outputs": [
    {
     "name": "stdout",
     "output_type": "stream",
     "text": [
      "{\n",
      "  \"name\": \"\\ud64d\\uae38\\ub3d9\",\n",
      "  \"birth\": \"0525\",\n",
      "  \"age\": 30\n",
      "}\n"
     ]
    }
   ],
   "source": [
    "print(json.dumps(j1, indent=2))"
   ]
  },
  {
   "cell_type": "code",
   "execution_count": 48,
   "id": "b220397f-7473-4fa6-b41c-5ce40cd4a86e",
   "metadata": {},
   "outputs": [
    {
     "data": {
      "text/plain": [
       "'[1, 2, 3]'"
      ]
     },
     "execution_count": 48,
     "metadata": {},
     "output_type": "execute_result"
    }
   ],
   "source": [
    "json.dumps([1,2,3])"
   ]
  },
  {
   "cell_type": "code",
   "execution_count": 52,
   "id": "19dc8f91-5be2-49ca-aace-dd830c639d14",
   "metadata": {},
   "outputs": [
    {
     "data": {
      "text/plain": [
       "{'name': '홍길동', 'birth': '0525', 'age': 30}"
      ]
     },
     "execution_count": 52,
     "metadata": {},
     "output_type": "execute_result"
    }
   ],
   "source": [
    "d1 = json.dumps(j1)\n",
    "json.loads(d1)"
   ]
  },
  {
   "cell_type": "code",
   "execution_count": null,
   "id": "9c4eb90d-1702-464c-8b75-d972822349e6",
   "metadata": {},
   "outputs": [],
   "source": []
  },
  {
   "cell_type": "code",
   "execution_count": null,
   "id": "d09a2cbf-fed2-438e-84c0-a69900ef71bd",
   "metadata": {},
   "outputs": [],
   "source": []
  },
  {
   "cell_type": "code",
   "execution_count": null,
   "id": "a055849b-0bbc-419e-af4c-91b7883a110d",
   "metadata": {},
   "outputs": [],
   "source": []
  },
  {
   "cell_type": "code",
   "execution_count": null,
   "id": "0f077427-83d7-4f6f-b04c-a18e62d03804",
   "metadata": {},
   "outputs": [],
   "source": []
  },
  {
   "cell_type": "code",
   "execution_count": null,
   "id": "d070ed52-9d33-4ccd-b567-c1d2139ad541",
   "metadata": {},
   "outputs": [],
   "source": []
  },
  {
   "cell_type": "code",
   "execution_count": null,
   "id": "4abc10f1-0201-4e9a-8d11-55b904cca8a1",
   "metadata": {},
   "outputs": [],
   "source": []
  },
  {
   "cell_type": "code",
   "execution_count": null,
   "id": "3d9bddd2-882c-4fac-8d3a-cd723976b91c",
   "metadata": {},
   "outputs": [],
   "source": []
  }
 ],
 "metadata": {
  "kernelspec": {
   "display_name": "Python 3 (ipykernel)",
   "language": "python",
   "name": "python3"
  },
  "language_info": {
   "codemirror_mode": {
    "name": "ipython",
    "version": 3
   },
   "file_extension": ".py",
   "mimetype": "text/x-python",
   "name": "python",
   "nbconvert_exporter": "python",
   "pygments_lexer": "ipython3",
   "version": "3.12.2"
  }
 },
 "nbformat": 4,
 "nbformat_minor": 5
}
