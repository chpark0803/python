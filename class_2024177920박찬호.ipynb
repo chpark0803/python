{
 "cells": [
  {
   "cell_type": "code",
   "execution_count": 10,
   "id": "72eff3f8-03b0-45fb-a5f2-baab3176f85a",
   "metadata": {},
   "outputs": [],
   "source": [
    "result = 0"
   ]
  },
  {
   "cell_type": "code",
   "execution_count": 11,
   "id": "4a6696f3-a763-46e6-b4cc-5bd5c5fd2257",
   "metadata": {},
   "outputs": [],
   "source": [
    "def adder(num):\n",
    "    global result\n",
    "    result += num\n",
    "    return result"
   ]
  },
  {
   "cell_type": "code",
   "execution_count": 12,
   "id": "acf29d83-147d-4493-8b42-9e6d1219026e",
   "metadata": {},
   "outputs": [
    {
     "data": {
      "text/plain": [
       "3"
      ]
     },
     "execution_count": 12,
     "metadata": {},
     "output_type": "execute_result"
    }
   ],
   "source": [
    "adder(3)"
   ]
  },
  {
   "cell_type": "code",
   "execution_count": 13,
   "id": "02dec8d0-cd29-4ac5-bc98-099457a23be4",
   "metadata": {},
   "outputs": [
    {
     "data": {
      "text/plain": [
       "7"
      ]
     },
     "execution_count": 13,
     "metadata": {},
     "output_type": "execute_result"
    }
   ],
   "source": [
    "adder(4)"
   ]
  },
  {
   "cell_type": "code",
   "execution_count": 14,
   "id": "1d76bff9-1644-4039-9b44-e49e15579d6a",
   "metadata": {},
   "outputs": [
    {
     "data": {
      "text/plain": [
       "12"
      ]
     },
     "execution_count": 14,
     "metadata": {},
     "output_type": "execute_result"
    }
   ],
   "source": [
    "adder(5)"
   ]
  },
  {
   "cell_type": "code",
   "execution_count": 19,
   "id": "26378e1f-26d4-4f9b-b303-81394b58494d",
   "metadata": {},
   "outputs": [],
   "source": [
    "result1 = 0\n",
    "result2 = 0"
   ]
  },
  {
   "cell_type": "code",
   "execution_count": 20,
   "id": "d9b95cc6-dd9f-46e3-9421-d5723c5ca095",
   "metadata": {},
   "outputs": [],
   "source": [
    "def adder1(num):\n",
    "    global result1\n",
    "    result1 += num\n",
    "    return result1"
   ]
  },
  {
   "cell_type": "code",
   "execution_count": 21,
   "id": "7f27b237-610a-48e5-b329-c8f0c2b3f57a",
   "metadata": {},
   "outputs": [],
   "source": [
    "def adder2(num):\n",
    "    global result2\n",
    "    result2 += num\n",
    "    return result2"
   ]
  },
  {
   "cell_type": "code",
   "execution_count": 22,
   "id": "f5358e13-e98f-40ae-be2d-3e9b52b6431a",
   "metadata": {},
   "outputs": [
    {
     "data": {
      "text/plain": [
       "3"
      ]
     },
     "execution_count": 22,
     "metadata": {},
     "output_type": "execute_result"
    }
   ],
   "source": [
    "adder1(3)"
   ]
  },
  {
   "cell_type": "code",
   "execution_count": 23,
   "id": "bc31af5d-fbaf-4a85-973c-ad9fd18715e3",
   "metadata": {},
   "outputs": [
    {
     "data": {
      "text/plain": [
       "7"
      ]
     },
     "execution_count": 23,
     "metadata": {},
     "output_type": "execute_result"
    }
   ],
   "source": [
    "adder1(4)"
   ]
  },
  {
   "cell_type": "code",
   "execution_count": 24,
   "id": "f064b434-8b38-4621-b371-9c42d1cba798",
   "metadata": {},
   "outputs": [
    {
     "data": {
      "text/plain": [
       "3"
      ]
     },
     "execution_count": 24,
     "metadata": {},
     "output_type": "execute_result"
    }
   ],
   "source": [
    "adder2(3)"
   ]
  },
  {
   "cell_type": "code",
   "execution_count": 25,
   "id": "dabef98c-6eaf-412f-85bc-cc2e140d6ef5",
   "metadata": {},
   "outputs": [
    {
     "data": {
      "text/plain": [
       "7"
      ]
     },
     "execution_count": 25,
     "metadata": {},
     "output_type": "execute_result"
    }
   ],
   "source": [
    "adder2(4)"
   ]
  },
  {
   "cell_type": "code",
   "execution_count": 56,
   "id": "f48a16cd-10f9-4ca4-8924-6c93946ed34f",
   "metadata": {},
   "outputs": [],
   "source": [
    "class Calculator:\n",
    "    def __init__(self):\n",
    "        self.result = 0\n",
    "\n",
    "    def adder(self, num):\n",
    "        self.result += num\n",
    "        return self.result"
   ]
  },
  {
   "cell_type": "code",
   "execution_count": 57,
   "id": "4c3b34d1-84a7-4c4f-97e2-2c12f3bb3c06",
   "metadata": {},
   "outputs": [
    {
     "ename": "AttributeError",
     "evalue": "type object 'Calculator' has no attribute 'result'",
     "output_type": "error",
     "traceback": [
      "\u001b[1;31m---------------------------------------------------------------------------\u001b[0m",
      "\u001b[1;31mAttributeError\u001b[0m                            Traceback (most recent call last)",
      "Cell \u001b[1;32mIn[57], line 1\u001b[0m\n\u001b[1;32m----> 1\u001b[0m \u001b[43mCalculator\u001b[49m\u001b[38;5;241;43m.\u001b[39;49m\u001b[43mresult\u001b[49m\n",
      "\u001b[1;31mAttributeError\u001b[0m: type object 'Calculator' has no attribute 'result'"
     ]
    }
   ],
   "source": [
    "Calculator.result"
   ]
  },
  {
   "cell_type": "code",
   "execution_count": 40,
   "id": "e6abfd94-727e-4f45-a999-43de90a0a3d0",
   "metadata": {},
   "outputs": [],
   "source": [
    "cal1 = Calculator()"
   ]
  },
  {
   "cell_type": "code",
   "execution_count": 41,
   "id": "b8da0c49-f289-4096-8c8d-5d768853b93b",
   "metadata": {},
   "outputs": [
    {
     "data": {
      "text/plain": [
       "3"
      ]
     },
     "execution_count": 41,
     "metadata": {},
     "output_type": "execute_result"
    }
   ],
   "source": [
    "cal1.adder(3)"
   ]
  },
  {
   "cell_type": "code",
   "execution_count": 43,
   "id": "42b8767d-4872-4a47-a121-a542797b9879",
   "metadata": {},
   "outputs": [
    {
     "data": {
      "text/plain": [
       "7"
      ]
     },
     "execution_count": 43,
     "metadata": {},
     "output_type": "execute_result"
    }
   ],
   "source": [
    "cal1.adder(4)"
   ]
  },
  {
   "cell_type": "code",
   "execution_count": 44,
   "id": "ca3d6f66-c1d7-43f2-a74c-519cd3b80b01",
   "metadata": {},
   "outputs": [],
   "source": [
    "cal2 = Calculator()"
   ]
  },
  {
   "cell_type": "code",
   "execution_count": 45,
   "id": "60929060-b668-42cd-bc96-f06f37ceb1bb",
   "metadata": {},
   "outputs": [
    {
     "data": {
      "text/plain": [
       "10"
      ]
     },
     "execution_count": 45,
     "metadata": {},
     "output_type": "execute_result"
    }
   ],
   "source": [
    "cal2.adder(10)"
   ]
  },
  {
   "cell_type": "code",
   "execution_count": 46,
   "id": "f23d034a-4de9-47f0-a9c6-fc80707cc32f",
   "metadata": {},
   "outputs": [
    {
     "data": {
      "text/plain": [
       "120"
      ]
     },
     "execution_count": 46,
     "metadata": {},
     "output_type": "execute_result"
    }
   ],
   "source": [
    "cal2.adder(110)"
   ]
  },
  {
   "cell_type": "code",
   "execution_count": 48,
   "id": "82c74a49-f1fd-4ebe-8491-1a91a5e4477b",
   "metadata": {},
   "outputs": [],
   "source": [
    "class Service:\n",
    "    secret = \"지구는 4006년에 멸망한다.\""
   ]
  },
  {
   "cell_type": "code",
   "execution_count": 51,
   "id": "0f20dc32-0de5-451d-846d-d6703ab0306e",
   "metadata": {},
   "outputs": [],
   "source": [
    "s = Service()"
   ]
  },
  {
   "cell_type": "code",
   "execution_count": 52,
   "id": "946d59c6-3b51-4a0a-84a2-323599e12446",
   "metadata": {},
   "outputs": [
    {
     "data": {
      "text/plain": [
       "'지구는 4006년에 멸망한다.'"
      ]
     },
     "execution_count": 52,
     "metadata": {},
     "output_type": "execute_result"
    }
   ],
   "source": [
    "s.secret"
   ]
  },
  {
   "cell_type": "code",
   "execution_count": 53,
   "id": "114d18a2-e12d-4eb6-b913-ef2bc9863d87",
   "metadata": {},
   "outputs": [],
   "source": [
    "s2 = Service()"
   ]
  },
  {
   "cell_type": "code",
   "execution_count": 54,
   "id": "5d8c4d99-316b-435d-9bb9-7cd92627a813",
   "metadata": {},
   "outputs": [
    {
     "data": {
      "text/plain": [
       "'지구는 4006년에 멸망한다.'"
      ]
     },
     "execution_count": 54,
     "metadata": {},
     "output_type": "execute_result"
    }
   ],
   "source": [
    "s2.secret"
   ]
  },
  {
   "cell_type": "code",
   "execution_count": 55,
   "id": "8c3ea745-ad88-4f1c-b426-87275f9a02fc",
   "metadata": {},
   "outputs": [
    {
     "data": {
      "text/plain": [
       "'지구는 4006년에 멸망한다.'"
      ]
     },
     "execution_count": 55,
     "metadata": {},
     "output_type": "execute_result"
    }
   ],
   "source": [
    "Service.secret"
   ]
  },
  {
   "cell_type": "code",
   "execution_count": 58,
   "id": "469fc100-a636-4fcc-acfb-f6235b8f3668",
   "metadata": {},
   "outputs": [],
   "source": [
    "class Service:\n",
    "    secret = \"지구는 4006년에 멸망한다.\"\n",
    "    def sum(self, a, b):\n",
    "        result = a+b\n",
    "        print(\"%s + %s = %s이다.\" % (a, b, result))"
   ]
  },
  {
   "cell_type": "code",
   "execution_count": 60,
   "id": "d5769eeb-89d4-4a46-aa35-7fd3495fc96b",
   "metadata": {},
   "outputs": [],
   "source": [
    "an = Service()"
   ]
  },
  {
   "cell_type": "code",
   "execution_count": 61,
   "id": "cfb2a361-92c0-4c84-b94e-28d16dd3b3be",
   "metadata": {},
   "outputs": [
    {
     "name": "stdout",
     "output_type": "stream",
     "text": [
      "1 + 1 = 2이다.\n"
     ]
    }
   ],
   "source": [
    "an.sum(1,1)"
   ]
  },
  {
   "cell_type": "code",
   "execution_count": 85,
   "id": "6eb4d5ee-3678-448d-931e-0b0ea06c32ac",
   "metadata": {},
   "outputs": [],
   "source": [
    "class Service:\n",
    "    secret = \"지구는 4006년에 멸망한다.\"\n",
    "    def setname(self, name):\n",
    "        self.name = name\n",
    "    def sum(self, a, b):\n",
    "        result = a+b\n",
    "        print(\"%s님, %s + %s = %s이다.\" % (self.name, a, b, result))"
   ]
  },
  {
   "cell_type": "code",
   "execution_count": 86,
   "id": "8e92d6d5-f1d2-4af0-bcf7-5ac9dc519a24",
   "metadata": {},
   "outputs": [],
   "source": [
    "an = Service()"
   ]
  },
  {
   "cell_type": "code",
   "execution_count": 87,
   "id": "047453ea-f254-4693-8ab7-922ff64654b3",
   "metadata": {},
   "outputs": [],
   "source": [
    "an.setname(\"박달도사\")"
   ]
  },
  {
   "cell_type": "code",
   "execution_count": 88,
   "id": "020b7b4d-f3db-426e-9cea-8e66054a62ef",
   "metadata": {},
   "outputs": [
    {
     "name": "stdout",
     "output_type": "stream",
     "text": [
      "박달도사님, 1 + 1 = 2이다.\n"
     ]
    }
   ],
   "source": [
    "an.sum(1,1)"
   ]
  },
  {
   "cell_type": "code",
   "execution_count": null,
   "id": "a885ca93-4c4a-40c1-9206-49dc44059e05",
   "metadata": {},
   "outputs": [],
   "source": []
  },
  {
   "cell_type": "code",
   "execution_count": 89,
   "id": "6afc3e8b-5179-4d46-a258-aeb63191359b",
   "metadata": {},
   "outputs": [],
   "source": [
    "lee = Service()"
   ]
  },
  {
   "cell_type": "code",
   "execution_count": 90,
   "id": "1874c556-d8ba-4c79-8f26-eb4e35da8959",
   "metadata": {},
   "outputs": [
    {
     "ename": "AttributeError",
     "evalue": "'Service' object has no attribute 'name'",
     "output_type": "error",
     "traceback": [
      "\u001b[1;31m---------------------------------------------------------------------------\u001b[0m",
      "\u001b[1;31mAttributeError\u001b[0m                            Traceback (most recent call last)",
      "Cell \u001b[1;32mIn[90], line 1\u001b[0m\n\u001b[1;32m----> 1\u001b[0m \u001b[43mlee\u001b[49m\u001b[38;5;241;43m.\u001b[39;49m\u001b[43msum\u001b[49m\u001b[43m(\u001b[49m\u001b[38;5;241;43m2\u001b[39;49m\u001b[43m,\u001b[49m\u001b[38;5;241;43m3\u001b[39;49m\u001b[43m)\u001b[49m\n",
      "Cell \u001b[1;32mIn[85], line 7\u001b[0m, in \u001b[0;36mService.sum\u001b[1;34m(self, a, b)\u001b[0m\n\u001b[0;32m      5\u001b[0m \u001b[38;5;28;01mdef\u001b[39;00m \u001b[38;5;21msum\u001b[39m(\u001b[38;5;28mself\u001b[39m, a, b):\n\u001b[0;32m      6\u001b[0m     result \u001b[38;5;241m=\u001b[39m a\u001b[38;5;241m+\u001b[39mb\n\u001b[1;32m----> 7\u001b[0m     \u001b[38;5;28mprint\u001b[39m(\u001b[38;5;124m\"\u001b[39m\u001b[38;5;132;01m%s\u001b[39;00m\u001b[38;5;124m님, \u001b[39m\u001b[38;5;132;01m%s\u001b[39;00m\u001b[38;5;124m + \u001b[39m\u001b[38;5;132;01m%s\u001b[39;00m\u001b[38;5;124m = \u001b[39m\u001b[38;5;132;01m%s\u001b[39;00m\u001b[38;5;124m이다.\u001b[39m\u001b[38;5;124m\"\u001b[39m \u001b[38;5;241m%\u001b[39m (\u001b[38;5;28;43mself\u001b[39;49m\u001b[38;5;241;43m.\u001b[39;49m\u001b[43mname\u001b[49m, a, b, result))\n",
      "\u001b[1;31mAttributeError\u001b[0m: 'Service' object has no attribute 'name'"
     ]
    }
   ],
   "source": [
    "lee.sum(2,3)"
   ]
  },
  {
   "cell_type": "code",
   "execution_count": null,
   "id": "4dec41ed-d9e5-4ee4-b09a-65ce8325ae6c",
   "metadata": {},
   "outputs": [],
   "source": []
  },
  {
   "cell_type": "code",
   "execution_count": 91,
   "id": "4028b75b-1055-419f-b556-3fb3b88329fc",
   "metadata": {},
   "outputs": [],
   "source": [
    "class Service:\n",
    "    secret = \"지구는 4006년에 멸망한다.\"\n",
    "    def __init__(self, name):\n",
    "        self.name = name\n",
    "    def sum(self, a, b):\n",
    "        result = a+b\n",
    "        print(\"%s님, %s + %s = %s이다.\" % (self.name, a, b, result))"
   ]
  },
  {
   "cell_type": "code",
   "execution_count": 93,
   "id": "fbd85bd0-6be0-47f1-8c2b-0d9add288c19",
   "metadata": {},
   "outputs": [],
   "source": [
    "an = Service(\"샐리\")"
   ]
  },
  {
   "cell_type": "code",
   "execution_count": 94,
   "id": "9524e280-b022-4647-9dc7-c454e0a6964e",
   "metadata": {},
   "outputs": [
    {
     "name": "stdout",
     "output_type": "stream",
     "text": [
      "샐리님, 1 + 1 = 2이다.\n"
     ]
    }
   ],
   "source": [
    "an.sum(1,1)"
   ]
  },
  {
   "cell_type": "code",
   "execution_count": null,
   "id": "398c69c3-51aa-41d2-9893-bd0b152fb686",
   "metadata": {},
   "outputs": [],
   "source": []
  },
  {
   "cell_type": "code",
   "execution_count": 96,
   "id": "5b2f60e9-189a-46de-9a48-1ee118883040",
   "metadata": {},
   "outputs": [],
   "source": [
    "class FourCal:\n",
    "    pass"
   ]
  },
  {
   "cell_type": "code",
   "execution_count": 97,
   "id": "90fa80d0-6976-4693-b5a4-e2ed6a72178d",
   "metadata": {},
   "outputs": [],
   "source": [
    "a = FourCal()"
   ]
  },
  {
   "cell_type": "code",
   "execution_count": 99,
   "id": "17a2ac19-2644-4036-bbde-a15aee3ba1ae",
   "metadata": {},
   "outputs": [
    {
     "name": "stdout",
     "output_type": "stream",
     "text": [
      "<class '__main__.FourCal'>\n"
     ]
    }
   ],
   "source": [
    "print(type(a))"
   ]
  },
  {
   "cell_type": "code",
   "execution_count": 113,
   "id": "dcd205be-e2a6-4e0a-9b87-0f8de97689f0",
   "metadata": {},
   "outputs": [],
   "source": [
    "class FourCal:\n",
    "    def setdata(self, first, second):\n",
    "        self.first = first\n",
    "        self.second = second\n",
    "    def sum(self):\n",
    "        result = self.first + self.second\n",
    "        return result\n",
    "\n",
    "    def mul(self):\n",
    "        result = self.first * self.second\n",
    "        return result\n",
    "\n",
    "    def sub(self):\n",
    "        result = self.first - self.second\n",
    "        return result\n",
    "\n",
    "    def div(self):\n",
    "        result = self.first / self.second\n",
    "        return result\n",
    "    "
   ]
  },
  {
   "cell_type": "code",
   "execution_count": 114,
   "id": "2ae83939-4596-4bb4-8ca4-3473f66380d4",
   "metadata": {},
   "outputs": [],
   "source": [
    "a = FourCal()"
   ]
  },
  {
   "cell_type": "code",
   "execution_count": 115,
   "id": "6e0bdd54-a5e9-452a-a55b-293779ca21fe",
   "metadata": {},
   "outputs": [],
   "source": [
    "a.setdata(4,2)"
   ]
  },
  {
   "cell_type": "code",
   "execution_count": 110,
   "id": "89051633-8de2-4c3d-ab37-3fe27fbd2208",
   "metadata": {},
   "outputs": [
    {
     "data": {
      "text/plain": [
       "4"
      ]
     },
     "execution_count": 110,
     "metadata": {},
     "output_type": "execute_result"
    }
   ],
   "source": [
    "a.first"
   ]
  },
  {
   "cell_type": "code",
   "execution_count": 111,
   "id": "4e229def-1331-46b6-8d5a-a3d36530fb40",
   "metadata": {},
   "outputs": [
    {
     "data": {
      "text/plain": [
       "2"
      ]
     },
     "execution_count": 111,
     "metadata": {},
     "output_type": "execute_result"
    }
   ],
   "source": [
    "a.second"
   ]
  },
  {
   "cell_type": "code",
   "execution_count": 112,
   "id": "951a02a7-faa1-455e-885f-394396ad3ce7",
   "metadata": {},
   "outputs": [
    {
     "data": {
      "text/plain": [
       "6"
      ]
     },
     "execution_count": 112,
     "metadata": {},
     "output_type": "execute_result"
    }
   ],
   "source": [
    "a.sum()"
   ]
  },
  {
   "cell_type": "code",
   "execution_count": 116,
   "id": "e4c88cda-3e88-48cb-a913-98044379fbb5",
   "metadata": {},
   "outputs": [
    {
     "data": {
      "text/plain": [
       "8"
      ]
     },
     "execution_count": 116,
     "metadata": {},
     "output_type": "execute_result"
    }
   ],
   "source": [
    "a.mul()"
   ]
  },
  {
   "cell_type": "code",
   "execution_count": 117,
   "id": "aea343c8-86b0-4bf8-9b4d-a1ab5ede9c26",
   "metadata": {},
   "outputs": [
    {
     "data": {
      "text/plain": [
       "2"
      ]
     },
     "execution_count": 117,
     "metadata": {},
     "output_type": "execute_result"
    }
   ],
   "source": [
    "a.sub()"
   ]
  },
  {
   "cell_type": "code",
   "execution_count": 118,
   "id": "2824320f-4bc3-40c1-ba88-6eea51fb95a0",
   "metadata": {},
   "outputs": [
    {
     "data": {
      "text/plain": [
       "2.0"
      ]
     },
     "execution_count": 118,
     "metadata": {},
     "output_type": "execute_result"
    }
   ],
   "source": [
    "a.div()"
   ]
  },
  {
   "cell_type": "code",
   "execution_count": null,
   "id": "1175235a-af40-40b3-ad34-b07fa28d64f9",
   "metadata": {},
   "outputs": [],
   "source": []
  },
  {
   "cell_type": "code",
   "execution_count": 119,
   "id": "e1a99e29-585c-41fc-9ded-c2b3bdc468b1",
   "metadata": {},
   "outputs": [],
   "source": [
    "import random\n",
    "\n",
    "player1_dice = []\n",
    "player2_dice = []"
   ]
  },
  {
   "cell_type": "code",
   "execution_count": 120,
   "id": "f84bb41c-ad01-4a59-ba2e-d966b08f6636",
   "metadata": {},
   "outputs": [],
   "source": [
    "for i in range(3):\n",
    "    player1_dice.append(random.randint(1,6))\n",
    "    player2_dice.append(random.randint(1,6))\n"
   ]
  },
  {
   "cell_type": "code",
   "execution_count": 123,
   "id": "4b13cc18-f740-4f03-a43f-e0ee897434dc",
   "metadata": {},
   "outputs": [
    {
     "name": "stdout",
     "output_type": "stream",
     "text": [
      "Player 1 rolled[4, 2, 5]\n",
      "Player 2 rolled[5, 2, 5]\n",
      "Player 2 wins\n"
     ]
    }
   ],
   "source": [
    "print(\"Player 1 rolled\" + str(player1_dice))\n",
    "print(\"Player 2 rolled\" + str(player2_dice))\n",
    "\n",
    "if sum(player1_dice) == sum(player2_dice):\n",
    "    print(\"Draw\")\n",
    "elif sum(player1_dice) > sum(player2_dice):\n",
    "    print(\"Player 1 wins\")\n",
    "else:\n",
    "    print(\"Player 2 wins\")"
   ]
  },
  {
   "cell_type": "code",
   "execution_count": null,
   "id": "b9de9a74-dca6-4dc8-9abb-ce2327dd3627",
   "metadata": {},
   "outputs": [],
   "source": []
  },
  {
   "cell_type": "code",
   "execution_count": 125,
   "id": "23954886-ad36-4fb5-bbad-cf3b9aa287a6",
   "metadata": {},
   "outputs": [],
   "source": [
    "from random import randint\n",
    "\n",
    "class Player:\n",
    "    def __init__(self):\n",
    "        self.dice = []\n",
    "\n",
    "    def roll(self):\n",
    "        self.dice = []\n",
    "        for i in range(3):\n",
    "            self.dice.append(randint(1,6))\n",
    "\n",
    "    def get_dice(self):\n",
    "        return self.dice"
   ]
  },
  {
   "cell_type": "code",
   "execution_count": 126,
   "id": "b1f9542b-c0f3-4bd1-ae38-14e60c5955c3",
   "metadata": {},
   "outputs": [],
   "source": [
    "player1 = Player()\n",
    "player2 = Player()\n",
    "\n",
    "player1.roll()\n",
    "player2.roll()"
   ]
  },
  {
   "cell_type": "code",
   "execution_count": 128,
   "id": "4a744765-156e-4507-8562-163af54e256a",
   "metadata": {},
   "outputs": [
    {
     "name": "stdout",
     "output_type": "stream",
     "text": [
      "Player 1 rolled[4, 2, 5]\n",
      "Player 2 rolled[5, 2, 5]\n",
      "Player 1 wins\n"
     ]
    }
   ],
   "source": [
    "print(\"Player 1 rolled\" + str(player1_dice))\n",
    "print(\"Player 2 rolled\" + str(player2_dice))\n",
    "\n",
    "if sum(player1.get_dice()) == sum(player2.get_dice()):\n",
    "    print(\"Draw\")\n",
    "elif sum(player1.get_dice()) > sum(player2.get_dice()):\n",
    "    print(\"Player 1 wins\")\n",
    "else:\n",
    "    print(\"Player 2 wins\")"
   ]
  },
  {
   "cell_type": "code",
   "execution_count": null,
   "id": "7f3e2ab7-7bd8-449c-933e-386ef6ac7478",
   "metadata": {},
   "outputs": [],
   "source": []
  }
 ],
 "metadata": {
  "kernelspec": {
   "display_name": "Python 3 (ipykernel)",
   "language": "python",
   "name": "python3"
  },
  "language_info": {
   "codemirror_mode": {
    "name": "ipython",
    "version": 3
   },
   "file_extension": ".py",
   "mimetype": "text/x-python",
   "name": "python",
   "nbconvert_exporter": "python",
   "pygments_lexer": "ipython3",
   "version": "3.12.2"
  }
 },
 "nbformat": 4,
 "nbformat_minor": 5
}
