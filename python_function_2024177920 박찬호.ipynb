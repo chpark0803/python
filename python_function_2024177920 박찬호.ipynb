{
 "cells": [
  {
   "cell_type": "code",
   "execution_count": 1,
   "id": "3f208904-e75b-4ddf-93d3-4048cce49240",
   "metadata": {},
   "outputs": [],
   "source": [
    "a = []\n",
    "for i in [1, 2, 3]:\n",
    "    a.append(i+1)"
   ]
  },
  {
   "cell_type": "code",
   "execution_count": 2,
   "id": "9cbbae21-8f24-4b69-945f-32226c874765",
   "metadata": {},
   "outputs": [
    {
     "data": {
      "text/plain": [
       "[2, 3, 4]"
      ]
     },
     "execution_count": 2,
     "metadata": {},
     "output_type": "execute_result"
    }
   ],
   "source": [
    "a"
   ]
  },
  {
   "cell_type": "code",
   "execution_count": 10,
   "id": "46b1bcf5-ae11-4fa6-b88d-f3faa172afd3",
   "metadata": {},
   "outputs": [],
   "source": [
    "def calcul(i):\n",
    "    c = i*2*3+i\n",
    "    return c"
   ]
  },
  {
   "cell_type": "code",
   "execution_count": 13,
   "id": "5e43c013-76b9-42d0-b64d-e9e171252b33",
   "metadata": {},
   "outputs": [],
   "source": [
    "b=[calcul(i) for i in [1, 2, 3]]"
   ]
  },
  {
   "cell_type": "code",
   "execution_count": 12,
   "id": "1a5ac091-044e-45df-b60e-238ddbd014aa",
   "metadata": {},
   "outputs": [
    {
     "data": {
      "text/plain": [
       "[7, 14, 21]"
      ]
     },
     "execution_count": 12,
     "metadata": {},
     "output_type": "execute_result"
    }
   ],
   "source": [
    "b"
   ]
  },
  {
   "cell_type": "code",
   "execution_count": 14,
   "id": "d2b7b6d8-6810-4f1b-a034-dfd8f5ff8065",
   "metadata": {},
   "outputs": [
    {
     "data": {
      "text/plain": [
       "[3]"
      ]
     },
     "execution_count": 14,
     "metadata": {},
     "output_type": "execute_result"
    }
   ],
   "source": [
    "[i+1 for i in [1, 2, 3] if i%2==0]"
   ]
  },
  {
   "cell_type": "code",
   "execution_count": 15,
   "id": "4d58cd34-2326-47aa-a840-61b78a0b43f3",
   "metadata": {},
   "outputs": [],
   "source": [
    "a = []\n",
    "for i in [1, 2, 3]:\n",
    "    if i%2 == 0 :\n",
    "        a.append(i+1)"
   ]
  },
  {
   "cell_type": "code",
   "execution_count": 16,
   "id": "c55ea3e4-c09b-4101-b3a4-aed0227ea758",
   "metadata": {},
   "outputs": [
    {
     "data": {
      "text/plain": [
       "[3]"
      ]
     },
     "execution_count": 16,
     "metadata": {},
     "output_type": "execute_result"
    }
   ],
   "source": [
    "a"
   ]
  },
  {
   "cell_type": "code",
   "execution_count": 19,
   "id": "bf5bb600-779e-41aa-afc1-6aba1ba430f1",
   "metadata": {},
   "outputs": [],
   "source": [
    "f = [1, 2, 3, 4, 5]"
   ]
  },
  {
   "cell_type": "code",
   "execution_count": 20,
   "id": "08866d91-2a5e-4011-ac65-b989bce60825",
   "metadata": {},
   "outputs": [
    {
     "data": {
      "text/plain": [
       "[1, 2, 3, 4, 5]"
      ]
     },
     "execution_count": 20,
     "metadata": {},
     "output_type": "execute_result"
    }
   ],
   "source": [
    "f"
   ]
  },
  {
   "cell_type": "code",
   "execution_count": 23,
   "id": "4a4208a7-c5ba-4151-b467-8450b293400d",
   "metadata": {},
   "outputs": [],
   "source": [
    "number_list = []\n",
    "number_list.append(1)\n",
    "number_list.append(2)\n",
    "number_list.append(3)\n",
    "number_list.append(4)\n",
    "number_list.append(5)"
   ]
  },
  {
   "cell_type": "code",
   "execution_count": 24,
   "id": "3d37a72a-3a1c-4a5e-968c-51104399907d",
   "metadata": {},
   "outputs": [
    {
     "data": {
      "text/plain": [
       "[1, 2, 3, 4, 5]"
      ]
     },
     "execution_count": 24,
     "metadata": {},
     "output_type": "execute_result"
    }
   ],
   "source": [
    "number_list"
   ]
  },
  {
   "cell_type": "code",
   "execution_count": 25,
   "id": "198a9597-eb5e-483e-bd97-b1324a0aa597",
   "metadata": {},
   "outputs": [
    {
     "data": {
      "text/plain": [
       "range"
      ]
     },
     "execution_count": 25,
     "metadata": {},
     "output_type": "execute_result"
    }
   ],
   "source": [
    "type(range(1,6))"
   ]
  },
  {
   "cell_type": "code",
   "execution_count": 26,
   "id": "0e7eb072-4048-49fd-9d03-3bd17d30a5d4",
   "metadata": {},
   "outputs": [
    {
     "data": {
      "text/plain": [
       "[1, 2, 3, 4, 5]"
      ]
     },
     "execution_count": 26,
     "metadata": {},
     "output_type": "execute_result"
    }
   ],
   "source": [
    "list(range(1,6))"
   ]
  },
  {
   "cell_type": "code",
   "execution_count": 27,
   "id": "332b6213-3042-4f96-8623-0bdcba0d2797",
   "metadata": {},
   "outputs": [],
   "source": [
    "word = 'Python'"
   ]
  },
  {
   "cell_type": "code",
   "execution_count": 28,
   "id": "ce546053-9d69-49cd-879a-cfbe62df4ec3",
   "metadata": {},
   "outputs": [
    {
     "data": {
      "text/plain": [
       "'python'"
      ]
     },
     "execution_count": 28,
     "metadata": {},
     "output_type": "execute_result"
    }
   ],
   "source": [
    "word.lower()"
   ]
  },
  {
   "cell_type": "code",
   "execution_count": 29,
   "id": "6f850937-dfa5-43d8-9a96-bfd2d8bce5cb",
   "metadata": {},
   "outputs": [
    {
     "data": {
      "text/plain": [
       "'PYTHON'"
      ]
     },
     "execution_count": 29,
     "metadata": {},
     "output_type": "execute_result"
    }
   ],
   "source": [
    "word.upper()"
   ]
  },
  {
   "cell_type": "code",
   "execution_count": 30,
   "id": "4c462252-f61f-4116-89d8-e152ee580f02",
   "metadata": {},
   "outputs": [
    {
     "data": {
      "text/plain": [
       "str"
      ]
     },
     "execution_count": 30,
     "metadata": {},
     "output_type": "execute_result"
    }
   ],
   "source": [
    "type(word)"
   ]
  },
  {
   "cell_type": "code",
   "execution_count": 31,
   "id": "ae51acbe-abe0-444f-b9ec-9b0613860f20",
   "metadata": {},
   "outputs": [],
   "source": [
    "sentence = ['I', 'Love', 'Python', 'Soooooo', 'MUCH!!!']"
   ]
  },
  {
   "cell_type": "code",
   "execution_count": 32,
   "id": "b99fc0d2-7e26-4129-9bf5-42cc8d0535bc",
   "metadata": {},
   "outputs": [
    {
     "data": {
      "text/plain": [
       "['I', 'Love', 'Python', 'Soooooo', 'MUCH!!!']"
      ]
     },
     "execution_count": 32,
     "metadata": {},
     "output_type": "execute_result"
    }
   ],
   "source": [
    "sentence"
   ]
  },
  {
   "cell_type": "code",
   "execution_count": 33,
   "id": "11db3f34-5826-4b18-af92-e065c21a42d4",
   "metadata": {},
   "outputs": [
    {
     "data": {
      "text/plain": [
       "['i', 'love', 'python', 'soooooo', 'much!!!']"
      ]
     },
     "execution_count": 33,
     "metadata": {},
     "output_type": "execute_result"
    }
   ],
   "source": [
    "[word.lower() for word in sentence]"
   ]
  },
  {
   "cell_type": "code",
   "execution_count": 34,
   "id": "7cc4a180-7bc2-4437-9939-b5f6b2c8d98f",
   "metadata": {},
   "outputs": [
    {
     "data": {
      "text/plain": [
       "['Soooooo', 'MUCH!!!']"
      ]
     },
     "execution_count": 34,
     "metadata": {},
     "output_type": "execute_result"
    }
   ],
   "source": [
    " [word for word in sentence if len(word) > 6]"
   ]
  },
  {
   "cell_type": "code",
   "execution_count": 38,
   "id": "239671ef-92d2-45b2-bd29-e44870e66f61",
   "metadata": {},
   "outputs": [
    {
     "data": {
      "text/plain": [
       "['I', 'LOVE']"
      ]
     },
     "execution_count": 38,
     "metadata": {},
     "output_type": "execute_result"
    }
   ],
   "source": [
    "[word.upper() for word in sentence if len(word) < 5]"
   ]
  },
  {
   "cell_type": "code",
   "execution_count": 42,
   "id": "87631fad-e0ed-4aab-ad60-89cc89cb366e",
   "metadata": {},
   "outputs": [
    {
     "data": {
      "text/plain": [
       "[(0, 0, 0),\n",
       " (1, 1, 1),\n",
       " (2, 4, 8),\n",
       " (3, 9, 27),\n",
       " (4, 16, 64),\n",
       " (5, 25, 125),\n",
       " (6, 36, 216),\n",
       " (7, 49, 343),\n",
       " (8, 64, 512),\n",
       " (9, 81, 729)]"
      ]
     },
     "execution_count": 42,
     "metadata": {},
     "output_type": "execute_result"
    }
   ],
   "source": [
    "[(x, x ** 2, x ** 3) for x in range(10)]"
   ]
  },
  {
   "cell_type": "code",
   "execution_count": 53,
   "id": "030dda79-1935-48e8-b5a0-8fa286c84ac9",
   "metadata": {},
   "outputs": [],
   "source": [
    "rows = range(1,4)"
   ]
  },
  {
   "cell_type": "code",
   "execution_count": 48,
   "id": "9f95608a-ba38-481e-b852-0715318ec764",
   "metadata": {},
   "outputs": [],
   "source": [
    "cols = range(1,3)"
   ]
  },
  {
   "cell_type": "code",
   "execution_count": 54,
   "id": "1d4ec3fd-b6bc-4a20-801b-adf6b6ed76ea",
   "metadata": {},
   "outputs": [
    {
     "name": "stdout",
     "output_type": "stream",
     "text": [
      "1 1\n",
      "1 2\n",
      "2 1\n",
      "2 2\n",
      "3 1\n",
      "3 2\n"
     ]
    }
   ],
   "source": [
    "for row in rows :\n",
    "    for col in cols :\n",
    "        print(row,col)"
   ]
  },
  {
   "cell_type": "code",
   "execution_count": 55,
   "id": "fff84cc5-0cee-4c96-9528-536e5347a562",
   "metadata": {},
   "outputs": [],
   "source": [
    "cells = [(row, col) for row in rows for col in cols]"
   ]
  },
  {
   "cell_type": "code",
   "execution_count": 56,
   "id": "9df0bfd7-2e06-4cef-ae32-73cefc7d1716",
   "metadata": {},
   "outputs": [
    {
     "name": "stdout",
     "output_type": "stream",
     "text": [
      "(1, 1)\n",
      "(1, 2)\n",
      "(2, 1)\n",
      "(2, 2)\n",
      "(3, 1)\n",
      "(3, 2)\n"
     ]
    }
   ],
   "source": [
    "for cell in cells:\n",
    "    print(cell)"
   ]
  },
  {
   "cell_type": "code",
   "execution_count": 57,
   "id": "9a2a9a1f-6d38-4ddc-8056-af0944abc5cc",
   "metadata": {},
   "outputs": [
    {
     "data": {
      "text/plain": [
       "[(1, 0),\n",
       " (2, 0),\n",
       " (2, 1),\n",
       " (3, 0),\n",
       " (3, 1),\n",
       " (3, 2),\n",
       " (4, 0),\n",
       " (4, 1),\n",
       " (4, 2),\n",
       " (4, 3)]"
      ]
     },
     "execution_count": 57,
     "metadata": {},
     "output_type": "execute_result"
    }
   ],
   "source": [
    "[(i,j) for i in range(5) for j in range(i)]"
   ]
  },
  {
   "cell_type": "code",
   "execution_count": 58,
   "id": "18065490-f12c-4582-871c-4a32106dd947",
   "metadata": {},
   "outputs": [],
   "source": [
    "word = 'letters'"
   ]
  },
  {
   "cell_type": "code",
   "execution_count": 61,
   "id": "7919c539-bea1-4d64-af3b-6e16599178bc",
   "metadata": {},
   "outputs": [
    {
     "name": "stdout",
     "output_type": "stream",
     "text": [
      "l\n",
      "e\n",
      "t\n",
      "t\n",
      "e\n",
      "r\n",
      "s\n"
     ]
    }
   ],
   "source": [
    "for letter in word:\n",
    "    print(letter)"
   ]
  },
  {
   "cell_type": "code",
   "execution_count": 62,
   "id": "145893f8-f5f1-46c8-8612-c5b922cb5fa4",
   "metadata": {},
   "outputs": [
    {
     "data": {
      "text/plain": [
       "'Letters'"
      ]
     },
     "execution_count": 62,
     "metadata": {},
     "output_type": "execute_result"
    }
   ],
   "source": [
    "word.title()"
   ]
  },
  {
   "cell_type": "code",
   "execution_count": 63,
   "id": "f8d2b433-ac99-4f99-a882-d78d02f76c94",
   "metadata": {},
   "outputs": [
    {
     "data": {
      "text/plain": [
       "7"
      ]
     },
     "execution_count": 63,
     "metadata": {},
     "output_type": "execute_result"
    }
   ],
   "source": [
    "len(word)"
   ]
  },
  {
   "cell_type": "code",
   "execution_count": 64,
   "id": "2ee897fc-7490-4fb4-8c21-fcb2aeed84b8",
   "metadata": {},
   "outputs": [
    {
     "data": {
      "text/plain": [
       "2"
      ]
     },
     "execution_count": 64,
     "metadata": {},
     "output_type": "execute_result"
    }
   ],
   "source": [
    "word.count('e')"
   ]
  },
  {
   "cell_type": "code",
   "execution_count": 65,
   "id": "187366db-c830-490d-9685-5f2c2fc3ccf9",
   "metadata": {},
   "outputs": [
    {
     "data": {
      "text/plain": [
       "1"
      ]
     },
     "execution_count": 65,
     "metadata": {},
     "output_type": "execute_result"
    }
   ],
   "source": [
    "word.count('tt')"
   ]
  },
  {
   "cell_type": "code",
   "execution_count": 70,
   "id": "2369ec57-e1c1-4674-9196-fb2eea40b7c3",
   "metadata": {},
   "outputs": [
    {
     "data": {
      "text/plain": [
       "{'l': 1, 'e': 2, 't': 2, 'r': 1, 's': 1}"
      ]
     },
     "execution_count": 70,
     "metadata": {},
     "output_type": "execute_result"
    }
   ],
   "source": [
    "{letter: word.count(letter) for letter in word}"
   ]
  },
  {
   "cell_type": "code",
   "execution_count": 71,
   "id": "dd86fac4-4301-47de-84fe-0cfb53235eb3",
   "metadata": {},
   "outputs": [],
   "source": [
    "letter_counts = {letter: word.count(letter) for letter in word}"
   ]
  },
  {
   "cell_type": "code",
   "execution_count": 72,
   "id": "12d6efd8-ac04-48b7-8353-1589ad307154",
   "metadata": {},
   "outputs": [
    {
     "data": {
      "text/plain": [
       "{'l': 1, 'e': 2, 't': 2, 'r': 1, 's': 1}"
      ]
     },
     "execution_count": 72,
     "metadata": {},
     "output_type": "execute_result"
    }
   ],
   "source": [
    "letter_counts"
   ]
  },
  {
   "cell_type": "code",
   "execution_count": 73,
   "id": "440dd6b9-4e68-4f7c-b278-dc24bddd4ea3",
   "metadata": {},
   "outputs": [
    {
     "data": {
      "text/plain": [
       "'apple'"
      ]
     },
     "execution_count": 73,
     "metadata": {},
     "output_type": "execute_result"
    }
   ],
   "source": [
    "'apple'"
   ]
  },
  {
   "cell_type": "code",
   "execution_count": 74,
   "id": "7520dfa8-bfef-4d8b-933a-5820edf3fb9c",
   "metadata": {},
   "outputs": [
    {
     "data": {
      "text/plain": [
       "{'a', 'e', 'l', 'p'}"
      ]
     },
     "execution_count": 74,
     "metadata": {},
     "output_type": "execute_result"
    }
   ],
   "source": [
    "set('apple')"
   ]
  },
  {
   "cell_type": "code",
   "execution_count": 76,
   "id": "440525ec-fe5f-409f-bb93-030438a6cb00",
   "metadata": {},
   "outputs": [
    {
     "data": {
      "text/plain": [
       "{1, 2, 3, 4, 5, 6}"
      ]
     },
     "execution_count": 76,
     "metadata": {},
     "output_type": "execute_result"
    }
   ],
   "source": [
    "set([1, 2, 3, 4, 5, 5, 5, 6, 3, 3, 3])"
   ]
  },
  {
   "cell_type": "code",
   "execution_count": 77,
   "id": "84b39c92-7112-434f-970d-450d8c2fa1f2",
   "metadata": {},
   "outputs": [],
   "source": [
    "def sum(a,b):\n",
    "    return a+b"
   ]
  },
  {
   "cell_type": "code",
   "execution_count": 79,
   "id": "6f0d16bb-c126-444b-a972-455ece3950d2",
   "metadata": {},
   "outputs": [],
   "source": [
    "p = sum(1,1)"
   ]
  },
  {
   "cell_type": "code",
   "execution_count": 80,
   "id": "71c3bc14-8423-4589-b8d6-e66fbee22fa6",
   "metadata": {},
   "outputs": [
    {
     "data": {
      "text/plain": [
       "2"
      ]
     },
     "execution_count": 80,
     "metadata": {},
     "output_type": "execute_result"
    }
   ],
   "source": [
    "p"
   ]
  },
  {
   "cell_type": "code",
   "execution_count": 82,
   "id": "66c2f17b-a919-4097-b4f1-c90ea8c3a8ba",
   "metadata": {},
   "outputs": [
    {
     "data": {
      "text/plain": [
       "'love python'"
      ]
     },
     "execution_count": 82,
     "metadata": {},
     "output_type": "execute_result"
    }
   ],
   "source": [
    "sum('love ', 'python')"
   ]
  },
  {
   "cell_type": "code",
   "execution_count": 83,
   "id": "f46f65a8-f97b-4a39-9cc1-0252d41ae64e",
   "metadata": {},
   "outputs": [],
   "source": [
    "days = ['Monday', 'Tuesday', 'Wednesday']"
   ]
  },
  {
   "cell_type": "code",
   "execution_count": 84,
   "id": "d0d3e5aa-6e6a-47ed-9c91-c28e8020d865",
   "metadata": {},
   "outputs": [],
   "source": [
    "fruits = ['banana', 'orange', 'peach']"
   ]
  },
  {
   "cell_type": "code",
   "execution_count": 86,
   "id": "c3890ecd-63f4-494b-9105-a144dc39fc7a",
   "metadata": {},
   "outputs": [],
   "source": [
    "drinks = ['coffee', 'tea', 'beer']"
   ]
  },
  {
   "cell_type": "code",
   "execution_count": 87,
   "id": "c34aafaa-5419-4dec-b1f5-230a03d9fd46",
   "metadata": {},
   "outputs": [],
   "source": [
    "desserts = ['tiramisu', 'ice cream', 'pie', 'pudding']"
   ]
  },
  {
   "cell_type": "code",
   "execution_count": 91,
   "id": "278c51eb-92d2-43a6-aa8b-07466bf16eb7",
   "metadata": {},
   "outputs": [
    {
     "data": {
      "text/plain": [
       "[('Monday', 'banana', 'coffee', 'tiramisu'),\n",
       " ('Tuesday', 'orange', 'tea', 'ice cream'),\n",
       " ('Wednesday', 'peach', 'beer', 'pie')]"
      ]
     },
     "execution_count": 91,
     "metadata": {},
     "output_type": "execute_result"
    }
   ],
   "source": [
    "list(zip(days, fruits, drinks, desserts))"
   ]
  },
  {
   "cell_type": "code",
   "execution_count": 92,
   "id": "255838d3-0ad2-402a-9d8b-a07c3578f409",
   "metadata": {},
   "outputs": [
    {
     "name": "stdout",
     "output_type": "stream",
     "text": [
      "Monday : drink coffee - eat banana - enjoy tiramisu\n",
      "Tuesday : drink tea - eat orange - enjoy ice cream\n",
      "Wednesday : drink beer - eat peach - enjoy pie\n"
     ]
    }
   ],
   "source": [
    "for day, fruit, drink, dessert in zip(days, fruits, drinks, desserts):\n",
    "    print(day, \": drink\", drink, \"- eat\", fruit, \"- enjoy\", dessert)"
   ]
  },
  {
   "cell_type": "code",
   "execution_count": 93,
   "id": "97e2e44b-49e7-44b8-99af-0b44c8db2791",
   "metadata": {},
   "outputs": [],
   "source": [
    "english = 'Monday', 'Tuesday', 'Wednesday'\n",
    "french = 'Lundi', 'Mardi', 'Mercredi'"
   ]
  },
  {
   "cell_type": "code",
   "execution_count": 94,
   "id": "a6a0b0e0-6772-4e62-97f7-060ad9619178",
   "metadata": {},
   "outputs": [
    {
     "data": {
      "text/plain": [
       "[('Monday', 'Lundi'), ('Tuesday', 'Mardi'), ('Wednesday', 'Mercredi')]"
      ]
     },
     "execution_count": 94,
     "metadata": {},
     "output_type": "execute_result"
    }
   ],
   "source": [
    "list( zip(english, french) )"
   ]
  },
  {
   "cell_type": "code",
   "execution_count": 95,
   "id": "e5c55f57-1c34-472d-a124-2673b8e8d993",
   "metadata": {},
   "outputs": [
    {
     "data": {
      "text/plain": [
       "{'Monday': 'Lundi', 'Tuesday': 'Mardi', 'Wednesday': 'Mercredi'}"
      ]
     },
     "execution_count": 95,
     "metadata": {},
     "output_type": "execute_result"
    }
   ],
   "source": [
    "dict( zip(english, french) )"
   ]
  },
  {
   "cell_type": "code",
   "execution_count": 96,
   "id": "4c99c559-d994-42a2-95d5-0c728d758559",
   "metadata": {},
   "outputs": [],
   "source": [
    "def menu(wine, entree, dessert):\n",
    "    return {'wine': wine, 'entree': entree, 'dessert': dessert}"
   ]
  },
  {
   "cell_type": "code",
   "execution_count": 97,
   "id": "c12160e5-7cea-471c-88b7-8172193c3350",
   "metadata": {},
   "outputs": [
    {
     "data": {
      "text/plain": [
       "{'wine': 'chardonnay', 'entree': 'chicken', 'dessert': 'cake'}"
      ]
     },
     "execution_count": 97,
     "metadata": {},
     "output_type": "execute_result"
    }
   ],
   "source": [
    "menu('chardonnay', 'chicken', 'cake')"
   ]
  },
  {
   "cell_type": "code",
   "execution_count": 113,
   "id": "a7d6be9a-5174-4a08-924e-fe092f88809b",
   "metadata": {},
   "outputs": [
    {
     "ename": "SyntaxError",
     "evalue": "expected ':' (3940402937.py, line 1)",
     "output_type": "error",
     "traceback": [
      "\u001b[1;36m  Cell \u001b[1;32mIn[113], line 1\u001b[1;36m\u001b[0m\n\u001b[1;33m    def echo(anything)\u001b[0m\n\u001b[1;37m                      ^\u001b[0m\n\u001b[1;31mSyntaxError\u001b[0m\u001b[1;31m:\u001b[0m expected ':'\n"
     ]
    }
   ],
   "source": [
    "def echo(anything)\n",
    "    'echo returnts its input argument'"
   ]
  },
  {
   "cell_type": "code",
   "execution_count": 104,
   "id": "e3d37ad1-04b0-4ca0-9597-8f44d710bf73",
   "metadata": {},
   "outputs": [
    {
     "data": {
      "text/plain": [
       "1"
      ]
     },
     "execution_count": 104,
     "metadata": {},
     "output_type": "execute_result"
    }
   ],
   "source": [
    "echo(1)"
   ]
  },
  {
   "cell_type": "code",
   "execution_count": 115,
   "id": "34b3aa78-4de5-410f-a609-dc46f1643ff9",
   "metadata": {},
   "outputs": [
    {
     "name": "stdout",
     "output_type": "stream",
     "text": [
      "Help on function echo in module __main__:\n",
      "\n",
      "echo(anything)\n",
      "\n"
     ]
    }
   ],
   "source": [
    "help(echo)"
   ]
  },
  {
   "cell_type": "code",
   "execution_count": 107,
   "id": "14e5ab09-0079-417a-bc7b-d766633f18b9",
   "metadata": {},
   "outputs": [],
   "source": [
    "def print_if_true(thing, check):\n",
    "    \"\"\"\n",
    "    Prints the first argument if a second argument is true.\n",
    "    The operation is:\n",
    "    1. Check whether the *second* argument is true.\n",
    "    2. If it is, print the *first* argument.\n",
    "    \"\"\"\n",
    "    if check:\n",
    "    rint(thing)"
   ]
  },
  {
   "cell_type": "code",
   "execution_count": 109,
   "id": "2ac5ea2f-30ef-4135-88cb-8cb5426f71ed",
   "metadata": {},
   "outputs": [
    {
     "name": "stdout",
     "output_type": "stream",
     "text": [
      "hahaha\n"
     ]
    }
   ],
   "source": [
    "print_if_true('hahaha', True)"
   ]
  },
  {
   "cell_type": "code",
   "execution_count": 110,
   "id": "820ce182-88ad-4c0b-a085-45e8ffea5eda",
   "metadata": {},
   "outputs": [],
   "source": [
    "print_if_true('hahaha', 1==3)"
   ]
  },
  {
   "cell_type": "code",
   "execution_count": 111,
   "id": "bc42aaa7-c6e2-40fc-a067-448440dbfb99",
   "metadata": {},
   "outputs": [
    {
     "name": "stdout",
     "output_type": "stream",
     "text": [
      "hahaha\n"
     ]
    }
   ],
   "source": [
    "print_if_true('hahaha', 1!=3)"
   ]
  },
  {
   "cell_type": "code",
   "execution_count": 112,
   "id": "4b9789f5-2a53-40ad-8056-58e707ed717f",
   "metadata": {},
   "outputs": [
    {
     "name": "stdout",
     "output_type": "stream",
     "text": [
      "Help on function print_if_true in module __main__:\n",
      "\n",
      "print_if_true(thing, check)\n",
      "    Prints the first argument if a second argument is true.\n",
      "    The operation is:\n",
      "    1. Check whether the *second* argument is true.\n",
      "    2. If it is, print the *first* argument.\n",
      "\n"
     ]
    }
   ],
   "source": [
    "help(print_if_true)"
   ]
  },
  {
   "cell_type": "code",
   "execution_count": 118,
   "id": "fd4c8a52-14ec-42d3-ae1b-f6acb445c2bf",
   "metadata": {},
   "outputs": [
    {
     "name": "stdout",
     "output_type": "stream",
     "text": [
      "Requirement already satisfied: numpy in c:\\users\\chpar\\appdata\\local\\programs\\python\\python312\\lib\\site-packages (1.26.4)\n"
     ]
    }
   ],
   "source": [
    "!pip install numpy"
   ]
  },
  {
   "cell_type": "code",
   "execution_count": 119,
   "id": "a3a353f1-8abb-4cd8-9a76-c591817084a7",
   "metadata": {},
   "outputs": [
    {
     "name": "stdout",
     "output_type": "stream",
     "text": [
      "Collecting pandas\n",
      "  Downloading pandas-2.2.2-cp312-cp312-win_amd64.whl.metadata (19 kB)\n",
      "Requirement already satisfied: numpy>=1.26.0 in c:\\users\\chpar\\appdata\\local\\programs\\python\\python312\\lib\\site-packages (from pandas) (1.26.4)\n",
      "Requirement already satisfied: python-dateutil>=2.8.2 in c:\\users\\chpar\\appdata\\local\\programs\\python\\python312\\lib\\site-packages (from pandas) (2.9.0.post0)\n",
      "Collecting pytz>=2020.1 (from pandas)\n",
      "  Downloading pytz-2024.1-py2.py3-none-any.whl.metadata (22 kB)\n",
      "Collecting tzdata>=2022.7 (from pandas)\n",
      "  Downloading tzdata-2024.1-py2.py3-none-any.whl.metadata (1.4 kB)\n",
      "Requirement already satisfied: six>=1.5 in c:\\users\\chpar\\appdata\\local\\programs\\python\\python312\\lib\\site-packages (from python-dateutil>=2.8.2->pandas) (1.16.0)\n",
      "Downloading pandas-2.2.2-cp312-cp312-win_amd64.whl (11.5 MB)\n",
      "   ---------------------------------------- 0.0/11.5 MB ? eta -:--:--\n",
      "    --------------------------------------- 0.2/11.5 MB 3.1 MB/s eta 0:00:04\n",
      "   - -------------------------------------- 0.5/11.5 MB 5.7 MB/s eta 0:00:02\n",
      "   --- ------------------------------------ 1.0/11.5 MB 7.1 MB/s eta 0:00:02\n",
      "   ----- ---------------------------------- 1.5/11.5 MB 8.7 MB/s eta 0:00:02\n",
      "   ------ --------------------------------- 1.8/11.5 MB 8.1 MB/s eta 0:00:02\n",
      "   -------- ------------------------------- 2.3/11.5 MB 8.6 MB/s eta 0:00:02\n",
      "   ---------- ----------------------------- 3.0/11.5 MB 9.5 MB/s eta 0:00:01\n",
      "   ------------ --------------------------- 3.5/11.5 MB 9.7 MB/s eta 0:00:01\n",
      "   ------------- -------------------------- 4.0/11.5 MB 9.8 MB/s eta 0:00:01\n",
      "   --------------- ------------------------ 4.5/11.5 MB 9.9 MB/s eta 0:00:01\n",
      "   ----------------- ---------------------- 5.1/11.5 MB 10.2 MB/s eta 0:00:01\n",
      "   ------------------- -------------------- 5.7/11.5 MB 10.4 MB/s eta 0:00:01\n",
      "   --------------------- ------------------ 6.2/11.5 MB 10.4 MB/s eta 0:00:01\n",
      "   ----------------------- ---------------- 6.7/11.5 MB 10.4 MB/s eta 0:00:01\n",
      "   ------------------------ --------------- 7.1/11.5 MB 10.4 MB/s eta 0:00:01\n",
      "   --------------------------- ------------ 7.8/11.5 MB 10.6 MB/s eta 0:00:01\n",
      "   ----------------------------- ---------- 8.4/11.5 MB 10.7 MB/s eta 0:00:01\n",
      "   ------------------------------ --------- 8.8/11.5 MB 10.8 MB/s eta 0:00:01\n",
      "   ------------------------------- -------- 9.2/11.5 MB 10.5 MB/s eta 0:00:01\n",
      "   --------------------------------- ------ 9.7/11.5 MB 10.5 MB/s eta 0:00:01\n",
      "   ----------------------------------- ---- 10.3/11.5 MB 10.9 MB/s eta 0:00:01\n",
      "   ------------------------------------- -- 10.8/11.5 MB 11.1 MB/s eta 0:00:01\n",
      "   ---------------------------------------  11.3/11.5 MB 11.1 MB/s eta 0:00:01\n",
      "   ---------------------------------------  11.5/11.5 MB 11.1 MB/s eta 0:00:01\n",
      "   ---------------------------------------- 11.5/11.5 MB 10.2 MB/s eta 0:00:00\n",
      "Downloading pytz-2024.1-py2.py3-none-any.whl (505 kB)\n",
      "   ---------------------------------------- 0.0/505.5 kB ? eta -:--:--\n",
      "   --------------------------------------  501.8/505.5 kB 15.9 MB/s eta 0:00:01\n",
      "   --------------------------------------- 505.5/505.5 kB 10.8 MB/s eta 0:00:00\n",
      "Downloading tzdata-2024.1-py2.py3-none-any.whl (345 kB)\n",
      "   ---------------------------------------- 0.0/345.4 kB ? eta -:--:--\n",
      "   --------------------------------------- 345.4/345.4 kB 22.3 MB/s eta 0:00:00\n",
      "Installing collected packages: pytz, tzdata, pandas\n",
      "Successfully installed pandas-2.2.2 pytz-2024.1 tzdata-2024.1\n"
     ]
    }
   ],
   "source": [
    "!pip install pandas"
   ]
  },
  {
   "cell_type": "code",
   "execution_count": 120,
   "id": "dd5fd19c-0e95-48ec-8139-963f233377b1",
   "metadata": {},
   "outputs": [
    {
     "name": "stdout",
     "output_type": "stream",
     "text": [
      "Collecting seaborn\n",
      "  Downloading seaborn-0.13.2-py3-none-any.whl.metadata (5.4 kB)\n",
      "Requirement already satisfied: numpy!=1.24.0,>=1.20 in c:\\users\\chpar\\appdata\\local\\programs\\python\\python312\\lib\\site-packages (from seaborn) (1.26.4)\n",
      "Requirement already satisfied: pandas>=1.2 in c:\\users\\chpar\\appdata\\local\\programs\\python\\python312\\lib\\site-packages (from seaborn) (2.2.2)\n",
      "Collecting matplotlib!=3.6.1,>=3.4 (from seaborn)\n",
      "  Downloading matplotlib-3.8.4-cp312-cp312-win_amd64.whl.metadata (5.9 kB)\n",
      "Collecting contourpy>=1.0.1 (from matplotlib!=3.6.1,>=3.4->seaborn)\n",
      "  Downloading contourpy-1.2.1-cp312-cp312-win_amd64.whl.metadata (5.8 kB)\n",
      "Collecting cycler>=0.10 (from matplotlib!=3.6.1,>=3.4->seaborn)\n",
      "  Downloading cycler-0.12.1-py3-none-any.whl.metadata (3.8 kB)\n",
      "Collecting fonttools>=4.22.0 (from matplotlib!=3.6.1,>=3.4->seaborn)\n",
      "  Downloading fonttools-4.51.0-cp312-cp312-win_amd64.whl.metadata (162 kB)\n",
      "     ---------------------------------------- 0.0/162.8 kB ? eta -:--:--\n",
      "     -- ------------------------------------- 10.2/162.8 kB ? eta -:--:--\n",
      "     -------------------------------------- 162.8/162.8 kB 2.5 MB/s eta 0:00:00\n",
      "Collecting kiwisolver>=1.3.1 (from matplotlib!=3.6.1,>=3.4->seaborn)\n",
      "  Downloading kiwisolver-1.4.5-cp312-cp312-win_amd64.whl.metadata (6.5 kB)\n",
      "Requirement already satisfied: packaging>=20.0 in c:\\users\\chpar\\appdata\\local\\programs\\python\\python312\\lib\\site-packages (from matplotlib!=3.6.1,>=3.4->seaborn) (24.0)\n",
      "Collecting pillow>=8 (from matplotlib!=3.6.1,>=3.4->seaborn)\n",
      "  Downloading pillow-10.3.0-cp312-cp312-win_amd64.whl.metadata (9.4 kB)\n",
      "Collecting pyparsing>=2.3.1 (from matplotlib!=3.6.1,>=3.4->seaborn)\n",
      "  Downloading pyparsing-3.1.2-py3-none-any.whl.metadata (5.1 kB)\n",
      "Requirement already satisfied: python-dateutil>=2.7 in c:\\users\\chpar\\appdata\\local\\programs\\python\\python312\\lib\\site-packages (from matplotlib!=3.6.1,>=3.4->seaborn) (2.9.0.post0)\n",
      "Requirement already satisfied: pytz>=2020.1 in c:\\users\\chpar\\appdata\\local\\programs\\python\\python312\\lib\\site-packages (from pandas>=1.2->seaborn) (2024.1)\n",
      "Requirement already satisfied: tzdata>=2022.7 in c:\\users\\chpar\\appdata\\local\\programs\\python\\python312\\lib\\site-packages (from pandas>=1.2->seaborn) (2024.1)\n",
      "Requirement already satisfied: six>=1.5 in c:\\users\\chpar\\appdata\\local\\programs\\python\\python312\\lib\\site-packages (from python-dateutil>=2.7->matplotlib!=3.6.1,>=3.4->seaborn) (1.16.0)\n",
      "Downloading seaborn-0.13.2-py3-none-any.whl (294 kB)\n",
      "   ---------------------------------------- 0.0/294.9 kB ? eta -:--:--\n",
      "   ---------------------------------------- 294.9/294.9 kB 8.9 MB/s eta 0:00:00\n",
      "Downloading matplotlib-3.8.4-cp312-cp312-win_amd64.whl (7.7 MB)\n",
      "   ---------------------------------------- 0.0/7.7 MB ? eta -:--:--\n",
      "   -- ------------------------------------- 0.5/7.7 MB 14.9 MB/s eta 0:00:01\n",
      "   ----- ---------------------------------- 1.0/7.7 MB 12.3 MB/s eta 0:00:01\n",
      "   ------- -------------------------------- 1.4/7.7 MB 13.1 MB/s eta 0:00:01\n",
      "   ---------- ----------------------------- 2.0/7.7 MB 11.3 MB/s eta 0:00:01\n",
      "   ------------ --------------------------- 2.4/7.7 MB 11.1 MB/s eta 0:00:01\n",
      "   --------------- ------------------------ 2.9/7.7 MB 10.9 MB/s eta 0:00:01\n",
      "   ---------------- ----------------------- 3.1/7.7 MB 11.1 MB/s eta 0:00:01\n",
      "   ------------------ --------------------- 3.5/7.7 MB 10.2 MB/s eta 0:00:01\n",
      "   -------------------- ------------------- 4.0/7.7 MB 10.2 MB/s eta 0:00:01\n",
      "   -------------------- ------------------- 4.0/7.7 MB 9.8 MB/s eta 0:00:01\n",
      "   -------------------- ------------------- 4.0/7.7 MB 9.8 MB/s eta 0:00:01\n",
      "   -------------------------- ------------- 5.1/7.7 MB 9.5 MB/s eta 0:00:01\n",
      "   ----------------------------- ---------- 5.6/7.7 MB 9.7 MB/s eta 0:00:01\n",
      "   ------------------------------- -------- 6.1/7.7 MB 9.7 MB/s eta 0:00:01\n",
      "   ---------------------------------- ----- 6.5/7.7 MB 9.7 MB/s eta 0:00:01\n",
      "   ------------------------------------ --- 7.0/7.7 MB 9.7 MB/s eta 0:00:01\n",
      "   ---------------------------------------  7.5/7.7 MB 9.8 MB/s eta 0:00:01\n",
      "   ---------------------------------------  7.7/7.7 MB 9.8 MB/s eta 0:00:01\n",
      "   ---------------------------------------- 7.7/7.7 MB 9.2 MB/s eta 0:00:00\n",
      "Downloading contourpy-1.2.1-cp312-cp312-win_amd64.whl (189 kB)\n",
      "   ---------------------------------------- 0.0/189.9 kB ? eta -:--:--\n",
      "   --------------------------------------- 189.9/189.9 kB 12.0 MB/s eta 0:00:00\n",
      "Downloading cycler-0.12.1-py3-none-any.whl (8.3 kB)\n",
      "Downloading fonttools-4.51.0-cp312-cp312-win_amd64.whl (2.2 MB)\n",
      "   ---------------------------------------- 0.0/2.2 MB ? eta -:--:--\n",
      "   ------- -------------------------------- 0.4/2.2 MB 13.5 MB/s eta 0:00:01\n",
      "   ---------------- ----------------------- 0.9/2.2 MB 11.4 MB/s eta 0:00:01\n",
      "   ------------------------ --------------- 1.3/2.2 MB 10.5 MB/s eta 0:00:01\n",
      "   --------------------------------- ------ 1.8/2.2 MB 11.5 MB/s eta 0:00:01\n",
      "   ---------------------------------------- 2.2/2.2 MB 9.9 MB/s eta 0:00:00\n",
      "Downloading kiwisolver-1.4.5-cp312-cp312-win_amd64.whl (56 kB)\n",
      "   ---------------------------------------- 0.0/56.0 kB ? eta -:--:--\n",
      "   ------------------------------------ --- 51.2/56.0 kB 1.3 MB/s eta 0:00:01\n",
      "   ---------------------------------------- 56.0/56.0 kB 973.7 kB/s eta 0:00:00\n",
      "Downloading pillow-10.3.0-cp312-cp312-win_amd64.whl (2.5 MB)\n",
      "   ---------------------------------------- 0.0/2.5 MB ? eta -:--:--\n",
      "   ------- -------------------------------- 0.5/2.5 MB 14.5 MB/s eta 0:00:01\n",
      "   --------------- ------------------------ 1.0/2.5 MB 12.5 MB/s eta 0:00:01\n",
      "   ------------------------ --------------- 1.5/2.5 MB 13.9 MB/s eta 0:00:01\n",
      "   ------------------------------ --------- 1.9/2.5 MB 12.2 MB/s eta 0:00:01\n",
      "   -------------------------------------- - 2.4/2.5 MB 12.0 MB/s eta 0:00:01\n",
      "   ---------------------------------------- 2.5/2.5 MB 10.8 MB/s eta 0:00:00\n",
      "Downloading pyparsing-3.1.2-py3-none-any.whl (103 kB)\n",
      "   ---------------------------------------- 0.0/103.2 kB ? eta -:--:--\n",
      "   ---------------------------------------- 103.2/103.2 kB 5.8 MB/s eta 0:00:00\n",
      "Installing collected packages: pyparsing, pillow, kiwisolver, fonttools, cycler, contourpy, matplotlib, seaborn\n",
      "Successfully installed contourpy-1.2.1 cycler-0.12.1 fonttools-4.51.0 kiwisolver-1.4.5 matplotlib-3.8.4 pillow-10.3.0 pyparsing-3.1.2 seaborn-0.13.2\n"
     ]
    }
   ],
   "source": [
    "!pip install seaborn"
   ]
  },
  {
   "cell_type": "code",
   "execution_count": 121,
   "id": "5ef9c455-d479-48c7-be39-0e1e205cc4ef",
   "metadata": {},
   "outputs": [
    {
     "name": "stdout",
     "output_type": "stream",
     "text": [
      "Requirement already satisfied: matplotlib in c:\\users\\chpar\\appdata\\local\\programs\\python\\python312\\lib\\site-packages (3.8.4)\n",
      "Requirement already satisfied: contourpy>=1.0.1 in c:\\users\\chpar\\appdata\\local\\programs\\python\\python312\\lib\\site-packages (from matplotlib) (1.2.1)\n",
      "Requirement already satisfied: cycler>=0.10 in c:\\users\\chpar\\appdata\\local\\programs\\python\\python312\\lib\\site-packages (from matplotlib) (0.12.1)\n",
      "Requirement already satisfied: fonttools>=4.22.0 in c:\\users\\chpar\\appdata\\local\\programs\\python\\python312\\lib\\site-packages (from matplotlib) (4.51.0)\n",
      "Requirement already satisfied: kiwisolver>=1.3.1 in c:\\users\\chpar\\appdata\\local\\programs\\python\\python312\\lib\\site-packages (from matplotlib) (1.4.5)\n",
      "Requirement already satisfied: numpy>=1.21 in c:\\users\\chpar\\appdata\\local\\programs\\python\\python312\\lib\\site-packages (from matplotlib) (1.26.4)\n",
      "Requirement already satisfied: packaging>=20.0 in c:\\users\\chpar\\appdata\\local\\programs\\python\\python312\\lib\\site-packages (from matplotlib) (24.0)\n",
      "Requirement already satisfied: pillow>=8 in c:\\users\\chpar\\appdata\\local\\programs\\python\\python312\\lib\\site-packages (from matplotlib) (10.3.0)\n",
      "Requirement already satisfied: pyparsing>=2.3.1 in c:\\users\\chpar\\appdata\\local\\programs\\python\\python312\\lib\\site-packages (from matplotlib) (3.1.2)\n",
      "Requirement already satisfied: python-dateutil>=2.7 in c:\\users\\chpar\\appdata\\local\\programs\\python\\python312\\lib\\site-packages (from matplotlib) (2.9.0.post0)\n",
      "Requirement already satisfied: six>=1.5 in c:\\users\\chpar\\appdata\\local\\programs\\python\\python312\\lib\\site-packages (from python-dateutil>=2.7->matplotlib) (1.16.0)\n"
     ]
    }
   ],
   "source": [
    "!pip install matplotlib"
   ]
  },
  {
   "cell_type": "code",
   "execution_count": 122,
   "id": "f349b476-3745-4a5d-86ad-ffdddc66ac33",
   "metadata": {},
   "outputs": [
    {
     "name": "stdout",
     "output_type": "stream",
     "text": [
      "Collecting scipy\n",
      "  Downloading scipy-1.13.0-cp312-cp312-win_amd64.whl.metadata (60 kB)\n",
      "     ---------------------------------------- 0.0/60.6 kB ? eta -:--:--\n",
      "     ------ --------------------------------- 10.2/60.6 kB ? eta -:--:--\n",
      "     ------------ ------------------------- 20.5/60.6 kB 217.9 kB/s eta 0:00:01\n",
      "     ------------------- ------------------ 30.7/60.6 kB 217.9 kB/s eta 0:00:01\n",
      "     -------------------------------------- 60.6/60.6 kB 359.6 kB/s eta 0:00:00\n",
      "Requirement already satisfied: numpy<2.3,>=1.22.4 in c:\\users\\chpar\\appdata\\local\\programs\\python\\python312\\lib\\site-packages (from scipy) (1.26.4)\n",
      "Downloading scipy-1.13.0-cp312-cp312-win_amd64.whl (45.9 MB)\n",
      "   ---------------------------------------- 0.0/45.9 MB ? eta -:--:--\n",
      "   ---------------------------------------- 0.2/45.9 MB 5.3 MB/s eta 0:00:09\n",
      "   ---------------------------------------- 0.5/45.9 MB 6.6 MB/s eta 0:00:07\n",
      "    --------------------------------------- 0.8/45.9 MB 6.5 MB/s eta 0:00:07\n",
      "   - -------------------------------------- 1.2/45.9 MB 6.7 MB/s eta 0:00:07\n",
      "   - -------------------------------------- 1.5/45.9 MB 7.0 MB/s eta 0:00:07\n",
      "   - -------------------------------------- 2.0/45.9 MB 7.4 MB/s eta 0:00:06\n",
      "   -- ------------------------------------- 2.3/45.9 MB 7.5 MB/s eta 0:00:06\n",
      "   -- ------------------------------------- 2.7/45.9 MB 7.6 MB/s eta 0:00:06\n",
      "   -- ------------------------------------- 3.2/45.9 MB 7.9 MB/s eta 0:00:06\n",
      "   --- ------------------------------------ 3.7/45.9 MB 8.1 MB/s eta 0:00:06\n",
      "   --- ------------------------------------ 4.0/45.9 MB 8.1 MB/s eta 0:00:06\n",
      "   --- ------------------------------------ 4.5/45.9 MB 8.2 MB/s eta 0:00:06\n",
      "   ---- ----------------------------------- 4.8/45.9 MB 8.1 MB/s eta 0:00:06\n",
      "   ---- ----------------------------------- 5.3/45.9 MB 8.2 MB/s eta 0:00:05\n",
      "   ---- ----------------------------------- 5.6/45.9 MB 8.1 MB/s eta 0:00:05\n",
      "   ----- ---------------------------------- 6.1/45.9 MB 8.3 MB/s eta 0:00:05\n",
      "   ----- ---------------------------------- 6.5/45.9 MB 8.3 MB/s eta 0:00:05\n",
      "   ----- ---------------------------------- 6.9/45.9 MB 8.3 MB/s eta 0:00:05\n",
      "   ------ --------------------------------- 7.2/45.9 MB 8.4 MB/s eta 0:00:05\n",
      "   ------ --------------------------------- 7.5/45.9 MB 8.1 MB/s eta 0:00:05\n",
      "   ------ --------------------------------- 7.9/45.9 MB 8.2 MB/s eta 0:00:05\n",
      "   ------- -------------------------------- 8.4/45.9 MB 8.3 MB/s eta 0:00:05\n",
      "   ------- -------------------------------- 8.9/45.9 MB 8.3 MB/s eta 0:00:05\n",
      "   -------- ------------------------------- 9.3/45.9 MB 8.4 MB/s eta 0:00:05\n",
      "   -------- ------------------------------- 9.8/45.9 MB 8.4 MB/s eta 0:00:05\n",
      "   -------- ------------------------------- 10.2/45.9 MB 8.5 MB/s eta 0:00:05\n",
      "   --------- ------------------------------ 10.6/45.9 MB 8.6 MB/s eta 0:00:05\n",
      "   --------- ------------------------------ 10.9/45.9 MB 8.6 MB/s eta 0:00:05\n",
      "   --------- ------------------------------ 11.3/45.9 MB 8.7 MB/s eta 0:00:04\n",
      "   ---------- ----------------------------- 11.7/45.9 MB 8.7 MB/s eta 0:00:04\n",
      "   ---------- ----------------------------- 12.0/45.9 MB 8.7 MB/s eta 0:00:04\n",
      "   ---------- ----------------------------- 12.4/45.9 MB 8.6 MB/s eta 0:00:04\n",
      "   ----------- ---------------------------- 12.6/45.9 MB 8.5 MB/s eta 0:00:04\n",
      "   ----------- ---------------------------- 12.6/45.9 MB 8.3 MB/s eta 0:00:05\n",
      "   ----------- ---------------------------- 13.4/45.9 MB 8.4 MB/s eta 0:00:04\n",
      "   ------------ --------------------------- 13.8/45.9 MB 8.3 MB/s eta 0:00:04\n",
      "   ------------ --------------------------- 14.1/45.9 MB 8.3 MB/s eta 0:00:04\n",
      "   ------------ --------------------------- 14.7/45.9 MB 8.4 MB/s eta 0:00:04\n",
      "   ------------- -------------------------- 15.2/45.9 MB 8.5 MB/s eta 0:00:04\n",
      "   ------------- -------------------------- 15.5/45.9 MB 8.3 MB/s eta 0:00:04\n",
      "   ------------- -------------------------- 15.9/45.9 MB 8.5 MB/s eta 0:00:04\n",
      "   -------------- ------------------------- 16.2/45.9 MB 8.3 MB/s eta 0:00:04\n",
      "   -------------- ------------------------- 16.8/45.9 MB 8.3 MB/s eta 0:00:04\n",
      "   -------------- ------------------------- 17.2/45.9 MB 8.3 MB/s eta 0:00:04\n",
      "   --------------- ------------------------ 17.5/45.9 MB 8.3 MB/s eta 0:00:04\n",
      "   --------------- ------------------------ 17.7/45.9 MB 8.2 MB/s eta 0:00:04\n",
      "   --------------- ------------------------ 18.2/45.9 MB 8.2 MB/s eta 0:00:04\n",
      "   ---------------- ----------------------- 18.7/45.9 MB 8.2 MB/s eta 0:00:04\n",
      "   ---------------- ----------------------- 19.3/45.9 MB 8.2 MB/s eta 0:00:04\n",
      "   ----------------- ---------------------- 19.7/45.9 MB 8.2 MB/s eta 0:00:04\n",
      "   ----------------- ---------------------- 20.2/45.9 MB 8.2 MB/s eta 0:00:04\n",
      "   ----------------- ---------------------- 20.7/45.9 MB 8.3 MB/s eta 0:00:04\n",
      "   ------------------ --------------------- 21.3/45.9 MB 8.3 MB/s eta 0:00:03\n",
      "   ------------------ --------------------- 21.6/45.9 MB 8.2 MB/s eta 0:00:03\n",
      "   ------------------- -------------------- 21.8/45.9 MB 8.2 MB/s eta 0:00:03\n",
      "   ------------------- -------------------- 22.2/45.9 MB 8.2 MB/s eta 0:00:03\n",
      "   ------------------- -------------------- 22.6/45.9 MB 8.2 MB/s eta 0:00:03\n",
      "   -------------------- ------------------- 23.0/45.9 MB 8.5 MB/s eta 0:00:03\n",
      "   -------------------- ------------------- 23.3/45.9 MB 8.2 MB/s eta 0:00:03\n",
      "   -------------------- ------------------- 23.5/45.9 MB 8.1 MB/s eta 0:00:03\n",
      "   -------------------- ------------------- 24.0/45.9 MB 8.1 MB/s eta 0:00:03\n",
      "   --------------------- ------------------ 24.4/45.9 MB 8.3 MB/s eta 0:00:03\n",
      "   --------------------- ------------------ 24.8/45.9 MB 8.0 MB/s eta 0:00:03\n",
      "   ---------------------- ----------------- 25.3/45.9 MB 8.0 MB/s eta 0:00:03\n",
      "   ---------------------- ----------------- 25.7/45.9 MB 8.1 MB/s eta 0:00:03\n",
      "   ---------------------- ----------------- 26.2/45.9 MB 8.1 MB/s eta 0:00:03\n",
      "   ----------------------- ---------------- 27.0/45.9 MB 8.1 MB/s eta 0:00:03\n",
      "   ----------------------- ---------------- 27.4/45.9 MB 8.1 MB/s eta 0:00:03\n",
      "   ------------------------ --------------- 27.9/45.9 MB 8.3 MB/s eta 0:00:03\n",
      "   ------------------------ --------------- 28.1/45.9 MB 8.2 MB/s eta 0:00:03\n",
      "   ------------------------ --------------- 28.5/45.9 MB 8.1 MB/s eta 0:00:03\n",
      "   ------------------------- -------------- 28.9/45.9 MB 8.0 MB/s eta 0:00:03\n",
      "   ------------------------- -------------- 29.3/45.9 MB 8.0 MB/s eta 0:00:03\n",
      "   -------------------------- ------------- 29.8/45.9 MB 7.8 MB/s eta 0:00:03\n",
      "   -------------------------- ------------- 30.4/45.9 MB 7.8 MB/s eta 0:00:02\n",
      "   -------------------------- ------------- 30.7/45.9 MB 7.6 MB/s eta 0:00:02\n",
      "   --------------------------- ------------ 31.1/45.9 MB 7.7 MB/s eta 0:00:02\n",
      "   --------------------------- ------------ 31.4/45.9 MB 7.6 MB/s eta 0:00:02\n",
      "   ---------------------------- ----------- 32.2/45.9 MB 8.0 MB/s eta 0:00:02\n",
      "   ---------------------------- ----------- 32.7/45.9 MB 7.9 MB/s eta 0:00:02\n",
      "   ---------------------------- ----------- 33.1/45.9 MB 8.0 MB/s eta 0:00:02\n",
      "   ----------------------------- ---------- 33.3/45.9 MB 7.9 MB/s eta 0:00:02\n",
      "   ----------------------------- ---------- 33.8/45.9 MB 8.1 MB/s eta 0:00:02\n",
      "   ----------------------------- ---------- 34.1/45.9 MB 8.1 MB/s eta 0:00:02\n",
      "   ------------------------------ --------- 34.6/45.9 MB 8.1 MB/s eta 0:00:02\n",
      "   ------------------------------ --------- 35.2/45.9 MB 8.2 MB/s eta 0:00:02\n",
      "   ------------------------------- -------- 35.6/45.9 MB 8.2 MB/s eta 0:00:02\n",
      "   ------------------------------- -------- 36.2/45.9 MB 8.2 MB/s eta 0:00:02\n",
      "   ------------------------------- -------- 36.6/45.9 MB 8.4 MB/s eta 0:00:02\n",
      "   -------------------------------- ------- 37.0/45.9 MB 8.3 MB/s eta 0:00:02\n",
      "   -------------------------------- ------- 37.6/45.9 MB 8.2 MB/s eta 0:00:02\n",
      "   --------------------------------- ------ 38.0/45.9 MB 8.3 MB/s eta 0:00:01\n",
      "   --------------------------------- ------ 38.2/45.9 MB 8.2 MB/s eta 0:00:01\n",
      "   --------------------------------- ------ 38.6/45.9 MB 8.4 MB/s eta 0:00:01\n",
      "   --------------------------------- ------ 38.7/45.9 MB 8.2 MB/s eta 0:00:01\n",
      "   ---------------------------------- ----- 39.5/45.9 MB 8.5 MB/s eta 0:00:01\n",
      "   ---------------------------------- ----- 39.9/45.9 MB 8.4 MB/s eta 0:00:01\n",
      "   ----------------------------------- ---- 40.3/45.9 MB 8.4 MB/s eta 0:00:01\n",
      "   ----------------------------------- ---- 40.8/45.9 MB 8.4 MB/s eta 0:00:01\n",
      "   ------------------------------------ --- 41.4/45.9 MB 8.7 MB/s eta 0:00:01\n",
      "   ------------------------------------ --- 41.9/45.9 MB 8.7 MB/s eta 0:00:01\n",
      "   ------------------------------------ --- 42.5/45.9 MB 8.7 MB/s eta 0:00:01\n",
      "   ------------------------------------- -- 42.8/45.9 MB 8.6 MB/s eta 0:00:01\n",
      "   ------------------------------------- -- 43.4/45.9 MB 8.7 MB/s eta 0:00:01\n",
      "   -------------------------------------- - 43.8/45.9 MB 8.8 MB/s eta 0:00:01\n",
      "   -------------------------------------- - 44.2/45.9 MB 8.8 MB/s eta 0:00:01\n",
      "   -------------------------------------- - 44.3/45.9 MB 8.6 MB/s eta 0:00:01\n",
      "   ---------------------------------------  45.2/45.9 MB 8.6 MB/s eta 0:00:01\n",
      "   ---------------------------------------  45.9/45.9 MB 8.8 MB/s eta 0:00:01\n",
      "   ---------------------------------------  45.9/45.9 MB 8.8 MB/s eta 0:00:01\n",
      "   ---------------------------------------  45.9/45.9 MB 8.8 MB/s eta 0:00:01\n",
      "   ---------------------------------------  45.9/45.9 MB 8.8 MB/s eta 0:00:01\n",
      "   ---------------------------------------  45.9/45.9 MB 8.8 MB/s eta 0:00:01\n",
      "   ---------------------------------------  45.9/45.9 MB 8.8 MB/s eta 0:00:01\n",
      "   ---------------------------------------  45.9/45.9 MB 8.8 MB/s eta 0:00:01\n",
      "   ---------------------------------------  45.9/45.9 MB 8.8 MB/s eta 0:00:01\n",
      "   ---------------------------------------- 45.9/45.9 MB 6.8 MB/s eta 0:00:00\n",
      "Installing collected packages: scipy\n",
      "Successfully installed scipy-1.13.0\n"
     ]
    }
   ],
   "source": [
    "!pip install scipy"
   ]
  },
  {
   "cell_type": "code",
   "execution_count": 123,
   "id": "6b181da3-923a-4f8e-8cf8-7d16178f8782",
   "metadata": {},
   "outputs": [
    {
     "name": "stdout",
     "output_type": "stream",
     "text": [
      "Collecting scikit-learn\n",
      "  Downloading scikit_learn-1.4.2-cp312-cp312-win_amd64.whl.metadata (11 kB)\n",
      "Requirement already satisfied: numpy>=1.19.5 in c:\\users\\chpar\\appdata\\local\\programs\\python\\python312\\lib\\site-packages (from scikit-learn) (1.26.4)\n",
      "Requirement already satisfied: scipy>=1.6.0 in c:\\users\\chpar\\appdata\\local\\programs\\python\\python312\\lib\\site-packages (from scikit-learn) (1.13.0)\n",
      "Collecting joblib>=1.2.0 (from scikit-learn)\n",
      "  Downloading joblib-1.4.2-py3-none-any.whl.metadata (5.4 kB)\n",
      "Collecting threadpoolctl>=2.0.0 (from scikit-learn)\n",
      "  Downloading threadpoolctl-3.5.0-py3-none-any.whl.metadata (13 kB)\n",
      "Downloading scikit_learn-1.4.2-cp312-cp312-win_amd64.whl (10.6 MB)\n",
      "   ---------------------------------------- 0.0/10.6 MB ? eta -:--:--\n",
      "   ---------------------------------------- 0.0/10.6 MB ? eta -:--:--\n",
      "   - -------------------------------------- 0.3/10.6 MB 5.0 MB/s eta 0:00:03\n",
      "   -- ------------------------------------- 0.8/10.6 MB 7.0 MB/s eta 0:00:02\n",
      "   ---- ----------------------------------- 1.2/10.6 MB 7.4 MB/s eta 0:00:02\n",
      "   ------ --------------------------------- 1.8/10.6 MB 8.6 MB/s eta 0:00:02\n",
      "   -------- ------------------------------- 2.3/10.6 MB 9.0 MB/s eta 0:00:01\n",
      "   --------- ------------------------------ 2.6/10.6 MB 8.9 MB/s eta 0:00:01\n",
      "   ----------- ---------------------------- 2.9/10.6 MB 8.5 MB/s eta 0:00:01\n",
      "   ------------ --------------------------- 3.4/10.6 MB 8.3 MB/s eta 0:00:01\n",
      "   ---------------- ----------------------- 4.3/10.6 MB 8.9 MB/s eta 0:00:01\n",
      "   ------------------ --------------------- 4.8/10.6 MB 9.3 MB/s eta 0:00:01\n",
      "   -------------------- ------------------- 5.3/10.6 MB 9.5 MB/s eta 0:00:01\n",
      "   ---------------------- ----------------- 5.9/10.6 MB 9.4 MB/s eta 0:00:01\n",
      "   ------------------------ --------------- 6.5/10.6 MB 9.7 MB/s eta 0:00:01\n",
      "   -------------------------- ------------- 7.0/10.6 MB 9.8 MB/s eta 0:00:01\n",
      "   ---------------------------- ----------- 7.5/10.6 MB 9.8 MB/s eta 0:00:01\n",
      "   ------------------------------ --------- 8.0/10.6 MB 9.9 MB/s eta 0:00:01\n",
      "   -------------------------------- ------- 8.6/10.6 MB 9.9 MB/s eta 0:00:01\n",
      "   ---------------------------------- ----- 9.2/10.6 MB 10.0 MB/s eta 0:00:01\n",
      "   ------------------------------------ --- 9.6/10.6 MB 10.1 MB/s eta 0:00:01\n",
      "   ------------------------------------- -- 10.0/10.6 MB 9.8 MB/s eta 0:00:01\n",
      "   -------------------------------------- - 10.2/10.6 MB 9.7 MB/s eta 0:00:01\n",
      "   ---------------------------------------  10.6/10.6 MB 10.1 MB/s eta 0:00:01\n",
      "   ---------------------------------------- 10.6/10.6 MB 9.6 MB/s eta 0:00:00\n",
      "Downloading joblib-1.4.2-py3-none-any.whl (301 kB)\n",
      "   ---------------------------------------- 0.0/301.8 kB ? eta -:--:--\n",
      "   ------------------------------ -------- 235.5/301.8 kB 15.0 MB/s eta 0:00:01\n",
      "   --------------------------------- ------ 256.0/301.8 kB 5.2 MB/s eta 0:00:01\n",
      "   --------------------------------- ------ 256.0/301.8 kB 5.2 MB/s eta 0:00:01\n",
      "   ---------------------------------------  297.0/301.8 kB 1.5 MB/s eta 0:00:01\n",
      "   ---------------------------------------- 301.8/301.8 kB 1.6 MB/s eta 0:00:00\n",
      "Downloading threadpoolctl-3.5.0-py3-none-any.whl (18 kB)\n",
      "Installing collected packages: threadpoolctl, joblib, scikit-learn\n",
      "Successfully installed joblib-1.4.2 scikit-learn-1.4.2 threadpoolctl-3.5.0\n"
     ]
    }
   ],
   "source": [
    "!pip install scikit-learn"
   ]
  },
  {
   "cell_type": "code",
   "execution_count": null,
   "id": "610c2755-1c71-4e42-af7f-2deac0a1c3a0",
   "metadata": {},
   "outputs": [],
   "source": []
  },
  {
   "cell_type": "code",
   "execution_count": null,
   "id": "cb913dae-8557-43ca-9d71-6f0b79305fce",
   "metadata": {},
   "outputs": [],
   "source": []
  }
 ],
 "metadata": {
  "kernelspec": {
   "display_name": "Python 3 (ipykernel)",
   "language": "python",
   "name": "python3"
  },
  "language_info": {
   "codemirror_mode": {
    "name": "ipython",
    "version": 3
   },
   "file_extension": ".py",
   "mimetype": "text/x-python",
   "name": "python",
   "nbconvert_exporter": "python",
   "pygments_lexer": "ipython3",
   "version": "3.12.2"
  }
 },
 "nbformat": 4,
 "nbformat_minor": 5
}
